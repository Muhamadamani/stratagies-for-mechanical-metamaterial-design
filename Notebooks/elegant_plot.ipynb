{
 "cells": [
  {
   "cell_type": "code",
   "execution_count": 1,
   "metadata": {},
   "outputs": [
    {
     "name": "stdout",
     "output_type": "stream",
     "text": [
      "Populating the interactive namespace from numpy and matplotlib\n"
     ]
    }
   ],
   "source": [
    "%pylab inline\n",
    "from pylab import *\n",
    "\n",
    "from __future__ import division\n",
    "import glob\n",
    "import matplotlib as mpl\n",
    "import numpy as np\n",
    "\n",
    "fig_width_pt = 355 #pt; ~165 mm\n",
    "inches_per_pt = 1.0/72.27                # Convert pt to inches\n",
    "golden_mean = (np.sqrt(5)-1.0)/2.0          # Aesthetic ratio\n",
    "fig_width  = fig_width_pt*inches_per_pt  # width in inches\n",
    "fig_height = fig_width/1.5               # height in inches\n",
    "\n",
    "fig_size = [fig_width,fig_width/2.05]    # fig_height]\n",
    "half_fig_size = [fig_width/2.05, fig_width/2.05]\n",
    "\n",
    "\n",
    "\n",
    "fig_sppars_dict = dict(left = 0.125, bottom=0.19, right=0.97, top=0.94)\n",
    "fig_sppars = mpl.figure.SubplotParams(**fig_sppars_dict)\n",
    "\n",
    "half_fig_sppars_dict = dict(left = fig_sppars.left*2,\n",
    "                            bottom = fig_sppars.bottom,\n",
    "                            right = 1-(1-fig_sppars.right)*2,\n",
    "                            top = fig_sppars.top)\n",
    "half_fig_sppars = mpl.figure.SubplotParams(**half_fig_sppars_dict)\n",
    "\n",
    "fpf_width_pt = 512\n",
    "fpf_height_pt = 355 - 20 # 20 pt for caption\n",
    "fpf_width = fpf_width_pt * inches_per_pt\n",
    "fpf_height = fpf_height_pt * inches_per_pt\n",
    "fpf_size = [fpf_width, fpf_height]\n",
    "\n",
    "fpf_sppars_dict = dict(\n",
    "    left = fig_sppars.left * fig_width / fpf_width,\n",
    "    bottom = fig_sppars.bottom * fig_height / fpf_height,\n",
    "    right = 1 - (1 - fig_sppars.right) * fig_width / fpf_width,\n",
    "    top = 1 - (1 - fig_sppars.top) * fig_height / fpf_height\n",
    ")\n",
    "\n",
    "fpf_sppars = mpl.figure.SubplotParams(**fpf_sppars_dict)\n",
    "\n",
    "def reset_subplots_adjust():\n",
    "    fig = plt.gcf()\n",
    "    if fig.subplotpars == fig_sppars:\n",
    "        subplots_adjust(**fig_sppars_dict)\n",
    "    elif fig.subplotpars == half_fig_sppars:\n",
    "        subplots_adjust(**half_fig_sppars_dict)\n",
    "    elif fig.subplotpars == fpf_sppars:\n",
    "        subplots_adjust(**fpf_sppars)\n",
    "    else:\n",
    "        raise Exception('unknown subplotparams!')\n",
    "\n",
    "    \n",
    "rc('text.latex', preamble = r\"\\usepackage{mathpazo}\\usepackage{nicefrac}\")\n",
    "rc('text', usetex=True)\n",
    "rc('figure', figsize=fig_size)\n",
    "rc('font', size=10)\n",
    "rc('font', family='serif')\n",
    "rc('savefig', dpi=300)\n",
    "\n",
    "rc('image', cmap='viridis')\n",
    "\n",
    "\n",
    "def fullfig(**kwargs):\n",
    "    params = {'figsize': fig_size[:], 'subplotpars': fig_sppars}\n",
    "    params.update(kwargs)\n",
    "    if 'hf' in params:\n",
    "        params['figsize'][1] *= params.pop('hf')\n",
    "    return figure(**params)\n",
    "\n",
    "def halffig(**kwargs):\n",
    "    params = {'figsize': half_fig_size[:], 'subplotpars': half_fig_sppars}\n",
    "    params.update(kwargs)\n",
    "    if 'hf' in params:\n",
    "        params['figsize'][1] *= params.pop('hf')\n",
    "    return figure(**params)\n",
    "\n",
    "def pagefig(**kwargs):\n",
    "    params = {'figsize': fpf_size[:], 'subplotpars': fpf_sppars}\n",
    "    params.update(kwargs)\n",
    "    if 'hf' in params:\n",
    "        params['figsize'][1] *= params.pop('hf')\n",
    "    return figure(**params)    \n",
    "\n",
    "def subplotlabel(label, loc='upper left', offsetx=6, offsety=6, ax=None, **kwargs):\n",
    "    \"\"\" e.g. subplotlabel('(a)', 'upper right')\n",
    "    upper/lower, left/right are accepted\n",
    "    offset is in bbox width units\n",
    "    \"\"\"\n",
    "\n",
    "    if ax is None:\n",
    "        ax = gca()\n",
    "    \n",
    "    v,h = loc.split(' ')\n",
    "    \n",
    "    axh = ax.bbox.height\n",
    "    axw = ax.bbox.width\n",
    "    \n",
    "    if v == 'upper':\n",
    "        va = 'top'\n",
    "        y = 1-offsety/axh\n",
    "    elif v == 'lower':\n",
    "        va = 'bottom'\n",
    "        y = offsety/axh\n",
    "    else:\n",
    "        raise Exception('unknown location')\n",
    "\n",
    "    if h == 'left':\n",
    "        ha = 'left'\n",
    "        x = offsetx/axw\n",
    "    elif h == 'right':\n",
    "        ha = 'right'\n",
    "        x = 1-offsetx/axw\n",
    "    else:\n",
    "        raise Exception('unknown location')\n",
    "\n",
    "    kw = dict(transform=ax.transAxes,\n",
    "              verticalalignment=va,\n",
    "              horizontalalignment=ha,\n",
    "              size='x-large',\n",
    "              zorder=-1)\n",
    "    kw.update(kwargs)\n",
    "    return ax.text(x, y, label, **kw)"
   ]
  },
  {
   "cell_type": "code",
   "execution_count": 2,
   "metadata": {},
   "outputs": [
    {
     "data": {
      "text/plain": [
       "<matplotlib.figure.Figure at 0xe16e3c9320>"
      ]
     },
     "execution_count": 2,
     "metadata": {},
     "output_type": "execute_result"
    },
    {
     "data": {
      "text/plain": [
       "<matplotlib.figure.Figure at 0xe16e3c9320>"
      ]
     },
     "metadata": {},
     "output_type": "display_data"
    }
   ],
   "source": [
    "halffig()"
   ]
  },
  {
   "cell_type": "code",
   "execution_count": null,
   "metadata": {
    "collapsed": true
   },
   "outputs": [],
   "source": []
  }
 ],
 "metadata": {
  "kernelspec": {
   "display_name": "Python 3",
   "language": "python",
   "name": "python3"
  },
  "language_info": {
   "codemirror_mode": {
    "name": "ipython",
    "version": 3
   },
   "file_extension": ".py",
   "mimetype": "text/x-python",
   "name": "python",
   "nbconvert_exporter": "python",
   "pygments_lexer": "ipython3",
   "version": "3.6.1"
  }
 },
 "nbformat": 4,
 "nbformat_minor": 1
}
