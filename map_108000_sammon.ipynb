{
 "cells": [
  {
   "cell_type": "code",
   "execution_count": 2,
   "metadata": {
    "collapsed": true
   },
   "outputs": [],
   "source": [
    "import numpy as np\n",
    "import re"
   ]
  },
  {
   "cell_type": "code",
   "execution_count": 47,
   "metadata": {
    "collapsed": false
   },
   "outputs": [
    {
     "name": "stdout",
     "output_type": "stream",
     "text": [
      "0\n",
      "3000\n",
      "6000\n",
      "9000\n",
      "12000\n",
      "15000\n",
      "18000\n",
      "21000\n",
      "24000\n",
      "27000\n",
      "30000\n",
      "33000\n",
      "36000\n",
      "39000\n",
      "42000\n",
      "45000\n",
      "48000\n",
      "51000\n",
      "54000\n",
      "57000\n",
      "60000\n",
      "63000\n",
      "66000\n",
      "69000\n",
      "72000\n",
      "75000\n",
      "78000\n",
      "81000\n",
      "84000\n",
      "87000\n",
      "90000\n",
      "93000\n",
      "96000\n",
      "99000\n",
      "102000\n",
      "105000\n"
     ]
    },
    {
     "ename": "IndexError",
     "evalue": "index 108000 is out of bounds for axis 0 with size 108000",
     "output_type": "error",
     "traceback": [
      "\u001b[1;31m---------------------------------------------------------------------------\u001b[0m",
      "\u001b[1;31mIndexError\u001b[0m                                Traceback (most recent call last)",
      "\u001b[1;32m<ipython-input-47-a75abce8d191>\u001b[0m in \u001b[0;36m<module>\u001b[1;34m()\u001b[0m\n\u001b[0;32m     31\u001b[0m                     \u001b[0mPosition\u001b[0m\u001b[1;33m[\u001b[0m\u001b[0mj\u001b[0m\u001b[1;33m-\u001b[0m\u001b[1;36m3415\u001b[0m\u001b[1;33m,\u001b[0m\u001b[1;36m1\u001b[0m\u001b[1;33m]\u001b[0m \u001b[1;33m=\u001b[0m \u001b[0mfloat\u001b[0m\u001b[1;33m(\u001b[0m\u001b[0mtest\u001b[0m\u001b[1;33m[\u001b[0m\u001b[1;36m1\u001b[0m\u001b[1;33m]\u001b[0m\u001b[1;33m)\u001b[0m\u001b[1;33m\u001b[0m\u001b[0m\n\u001b[0;32m     32\u001b[0m             \u001b[0mi\u001b[0m \u001b[1;33m=\u001b[0m \u001b[0mi\u001b[0m \u001b[1;33m+\u001b[0m \u001b[1;36m1\u001b[0m\u001b[1;33m\u001b[0m\u001b[0m\n\u001b[1;32m---> 33\u001b[1;33m             \u001b[0mPositions\u001b[0m\u001b[1;33m[\u001b[0m\u001b[0mi\u001b[0m\u001b[1;33m]\u001b[0m \u001b[1;33m=\u001b[0m \u001b[0mPosition\u001b[0m \u001b[1;33m/\u001b[0m \u001b[1;36m4\u001b[0m\u001b[1;33m\u001b[0m\u001b[0m\n\u001b[0m",
      "\u001b[1;31mIndexError\u001b[0m: index 108000 is out of bounds for axis 0 with size 108000"
     ]
    }
   ],
   "source": [
    "data_dir = r'\\\\storage01.amolf.nl\\data\\AMOLF\\users\\singh\\Lisa PSO Runs\\Order Parameter Study\\100000 Runs\\Data'\n",
    "cog_social = [[0,14], [0,13], [0,12], [0,11], [0,10], [0,9], [0,8], [0,7],\n",
    "              [1,13], [1,12], [1,11], [1,10], [1,9], [1,8], [1,7],\n",
    "              [2,12], [2,11], [2,10], [2,9], [2,8], [2,7],\n",
    "              [3,11], [3,10], [3,9], [3,8], [3,7],\n",
    "              [4,10], [4,9], [4,8], [4,7],\n",
    "              [5,9], [5,8], [5,7],\n",
    "              [6,8], [6,7],\n",
    "              [7,7]]\n",
    "\n",
    "file_each = 3000\n",
    "order_param_r2 = np.ones((36*file_each, 8, 8))*np.nan\n",
    "\n",
    "Position  = np.zeros((12, 2))\n",
    "Positions = np.zeros((108000, 12, 2))\n",
    "\n",
    "remaining = 36*file_each\n",
    "i = 0\n",
    "for cf, sf in cog_social:\n",
    "        print(i)\n",
    "        for filecount in range(0, file_each):\n",
    "            str1 = \"%02d\"%(cf*25+0)\n",
    "            str2 = \"%02d\"%(sf*25+0)\n",
    "            str3 = \"%02d\"%(filecount)    \n",
    "            fp = open(data_dir+ '\\RunPso_c' + str1 +'_s'+ str2 +'_r'+ str3)\n",
    "            \n",
    "            for j, line in enumerate(fp):\n",
    "                  if(j >= 3415 and j<= 3426):\n",
    "                    test = re.split(r'\\t+', line)\n",
    "                    Position[j-3415,0] = float(test[0])\n",
    "                    Position[j-3415,1] = float(test[1])\n",
    "            i = i + 1        \n",
    "            Positions[i] = Position / 4"
   ]
  },
  {
   "cell_type": "code",
   "execution_count": 48,
   "metadata": {
    "collapsed": false
   },
   "outputs": [],
   "source": [
    "import scipy.io\n",
    "scipy.io.savemat(r'\\\\storage01.amolf.nl\\data\\AMOLF\\users\\singh\\Nitin\\Sammon Mapping\\Positions_108000.mat', {'Positions': Positions[0:105000]})"
   ]
  },
  {
   "cell_type": "code",
   "execution_count": 49,
   "metadata": {
    "collapsed": true
   },
   "outputs": [],
   "source": [
    "mapped_position = scipy.io.loadmat(r'C:\\Users\\singh\\Desktop\\Mapped_Positions.mat')"
   ]
  },
  {
   "cell_type": "code",
   "execution_count": 21,
   "metadata": {
    "collapsed": false
   },
   "outputs": [],
   "source": [
    "from matplotlib import pyplot as plt\n",
    "for count in range(54000):\n",
    "    x = mapped_position['y_stacked'][count,0]; y = mapped_position['y_stacked'][count,1]\n",
    "    plt.plot(x,y, 'o', markersize = 1)\n",
    "plt.show()"
   ]
  },
  {
   "cell_type": "code",
   "execution_count": 59,
   "metadata": {
    "collapsed": false
   },
   "outputs": [],
   "source": [
    "plt.plot(mapped_position['y_stacked'][:,0], mapped_position['y_stacked'][:,1], 'o', markersize =1, markeredgecolor = 'None', alpha = 0.50)\n",
    "#plt.xlim(-2,2)\n",
    "#plt.ylim(-2,2)\n",
    "plt.show()"
   ]
  },
  {
   "cell_type": "code",
   "execution_count": 60,
   "metadata": {
    "collapsed": true
   },
   "outputs": [],
   "source": [
    "fitness_array = np.load(r\"\\\\storage01.amolf.nl\\data\\AMOLF\\users\\singh\\Lisa PSO Runs\\Order Parameter Study\\100000 Runs\\Data\\Data\\best_cost_grid.npy\")"
   ]
  },
  {
   "cell_type": "code",
   "execution_count": 91,
   "metadata": {
    "collapsed": true
   },
   "outputs": [],
   "source": [
    "fitness_array_for_mapping_colormap = np.zeros((105000,1))"
   ]
  },
  {
   "cell_type": "code",
   "execution_count": 137,
   "metadata": {
    "collapsed": false
   },
   "outputs": [],
   "source": [
    "for i in range(8):\n",
    "    fitness_array_for_mapping_colormap[3000*i:3000*(i+1),0] = fitness_array[:,7-i,0]"
   ]
  },
  {
   "cell_type": "code",
   "execution_count": 138,
   "metadata": {
    "collapsed": false
   },
   "outputs": [],
   "source": [
    "for i in range(7):\n",
    "    fitness_array_for_mapping_colormap[24000+3000*i:24000+3000*(i+1),0] = fitness_array[:,6-i,1]"
   ]
  },
  {
   "cell_type": "code",
   "execution_count": 139,
   "metadata": {
    "collapsed": false
   },
   "outputs": [],
   "source": [
    "for i in range(6):\n",
    "    fitness_array_for_mapping_colormap[45000+3000*i:45000+3000*(i+1),0] = fitness_array[:,5-i,2]"
   ]
  },
  {
   "cell_type": "code",
   "execution_count": 140,
   "metadata": {
    "collapsed": false
   },
   "outputs": [],
   "source": [
    "for i in range(5):\n",
    "    fitness_array_for_mapping_colormap[63000+3000*i:63000+3000*(i+1),0] = fitness_array[:,4-i,3]"
   ]
  },
  {
   "cell_type": "code",
   "execution_count": 141,
   "metadata": {
    "collapsed": false
   },
   "outputs": [],
   "source": [
    "for i in range(4):\n",
    "    fitness_array_for_mapping_colormap[78000+3000*i:78000+3000*(i+1),0] = fitness_array[:,3-i,4]"
   ]
  },
  {
   "cell_type": "code",
   "execution_count": 142,
   "metadata": {
    "collapsed": false
   },
   "outputs": [],
   "source": [
    "for i in range(3):\n",
    "    fitness_array_for_mapping_colormap[90000+3000*i:90000+3000*(i+1),0] = fitness_array[:,2-i,5]"
   ]
  },
  {
   "cell_type": "code",
   "execution_count": 143,
   "metadata": {
    "collapsed": true
   },
   "outputs": [],
   "source": [
    "for i in range(2):\n",
    "    fitness_array_for_mapping_colormap[99000+3000*i:99000+3000*(i+1),0] = fitness_array[:,1-i,6]"
   ]
  },
  {
   "cell_type": "code",
   "execution_count": 104,
   "metadata": {
    "collapsed": false
   },
   "outputs": [
    {
     "data": {
      "text/plain": [
       "array([ 0.00012801])"
      ]
     },
     "execution_count": 104,
     "metadata": {},
     "output_type": "execute_result"
    }
   ],
   "source": []
  },
  {
   "cell_type": "code",
   "execution_count": 107,
   "metadata": {
    "collapsed": false
   },
   "outputs": [
    {
     "data": {
      "text/plain": [
       "0.04067879531572928"
      ]
     },
     "execution_count": 107,
     "metadata": {},
     "output_type": "execute_result"
    }
   ],
   "source": [
    "fitness_array_for_mapping_colormap.max()"
   ]
  },
  {
   "cell_type": "code",
   "execution_count": 106,
   "metadata": {
    "collapsed": false
   },
   "outputs": [
    {
     "data": {
      "text/plain": [
       "3.3886906797320248e-11"
      ]
     },
     "execution_count": 106,
     "metadata": {},
     "output_type": "execute_result"
    }
   ],
   "source": [
    "fitness_array_for_mapping_colormap.min()"
   ]
  },
  {
   "cell_type": "code",
   "execution_count": 159,
   "metadata": {
    "collapsed": false
   },
   "outputs": [],
   "source": [
    "import colormaps as cmaps\n",
    "#plt.register_cmap(name='viridis', cmap=cmaps.viridis)\n",
    "#from mattplotlib import colors\n",
    "cmap = plt.get_cmap('jet_r')\n",
    "#cmap = cmaps.plasma\n",
    "import matplotlib as mpl\n",
    "norm = mpl.colors.LogNorm(vmax=0.0406, vmin=1e-5)\n",
    "\n",
    "for i in range(105000):\n",
    "         clr = cmap(norm(fitness_array_for_mapping_colormap[i,0]))\n",
    "         plt.plot(mapped_position['y_stacked'][i,0], mapped_position['y_stacked'][i,1], 'o'\n",
    "         , color = clr, markersize =1, markeredgecolor = clr)\n",
    "plt.show()"
   ]
  },
  {
   "cell_type": "code",
   "execution_count": 113,
   "metadata": {
    "collapsed": false
   },
   "outputs": [
    {
     "data": {
      "text/plain": [
       "array([  2.11789566e-04,   8.13316740e-05,   3.29753628e-04,\n",
       "         7.95148350e-05,   1.30843136e-04,   3.18233139e-04,\n",
       "         7.13101173e-05,   4.37853927e-04,   8.20477732e-05,\n",
       "         5.43127552e-04,   8.32905809e-05,   6.63967639e-04,\n",
       "         1.21490017e-04,   4.57408094e-05,   3.20170657e-03,\n",
       "         1.45392723e-04,   2.38881835e-04,   3.25537490e-04,\n",
       "         1.00265679e-04,   7.23712708e-05,   1.15436108e-04,\n",
       "         2.85180491e-04,   3.35588250e-04,   1.78850368e-04,\n",
       "         1.75536235e-04,   6.77134626e-04,   1.63228970e-04,\n",
       "         2.09390947e-05,   9.10824430e-03,   9.00704519e-05,\n",
       "         4.25726274e-05,   4.82575026e-04,   1.04084762e-04,\n",
       "         5.70468401e-04,   5.24666147e-04,   1.29425781e-05,\n",
       "         9.26097803e-05,   9.51650448e-05,   3.82452575e-04,\n",
       "         4.31775835e-05,   9.50693231e-05,   6.36856402e-05,\n",
       "         1.64993815e-04,   6.57147693e-05,   1.38574490e-04,\n",
       "         2.16822275e-04,   1.96253210e-04,   8.54881898e-05,\n",
       "         1.74040144e-04,   1.16393811e-03,   7.45106978e-05,\n",
       "         3.07132376e-04,   7.62425575e-04,   4.72973989e-05,\n",
       "         1.12583287e-03,   5.45044534e-05,   1.89536802e-04,\n",
       "         4.36577798e-04,   4.30584263e-05,   9.27115076e-05,\n",
       "         1.35464800e-05,   1.16751119e-04,   3.44316149e-04,\n",
       "         9.43185147e-05,   6.05546130e-04,   2.30716448e-04,\n",
       "         7.01684548e-05,   5.44406265e-05,   1.43798629e-04,\n",
       "         4.23821242e-05,   3.01108099e-04,   7.27358383e-05,\n",
       "         4.09197090e-04,   4.94174420e-04,   3.63119924e-05,\n",
       "         4.01517645e-04,   1.81500827e-04,   3.62141432e-04,\n",
       "         1.59202650e-04,   2.15772304e-03,   9.33425949e-04,\n",
       "         2.18344263e-04,   1.13986466e-03,   2.56808341e-04,\n",
       "         9.05137169e-05,   2.69458493e-04,   6.61437317e-05,\n",
       "         2.37944144e-05,   7.36486057e-05,   3.24054731e-05,\n",
       "         1.41321861e-03,   7.79247990e-05,   1.78452071e-04,\n",
       "         8.34420478e-04,   1.35310178e-05,   3.00994065e-04,\n",
       "         1.85246173e-03,   1.06768703e-04,   9.46309843e-04,\n",
       "         6.02524346e-05])"
      ]
     },
     "execution_count": 113,
     "metadata": {},
     "output_type": "execute_result"
    }
   ],
   "source": [
    "fitness_array_for_mapping_colormap[0:100,0]"
   ]
  },
  {
   "cell_type": "code",
   "execution_count": 136,
   "metadata": {
    "collapsed": false
   },
   "outputs": [
    {
     "data": {
      "text/plain": [
       "array([[-0.95860599,  0.8294437 ],\n",
       "       [-0.31699929,  1.3542717 ],\n",
       "       [ 0.53221478,  0.95317249],\n",
       "       [ 1.34642378,  0.99657069],\n",
       "       [ 0.98538235, -0.38074304],\n",
       "       [ 0.95310183, -1.38308076],\n",
       "       [-1.54627555, -1.38942996],\n",
       "       [-1.57083884, -0.21708284],\n",
       "       [-0.17641784, -0.20158462],\n",
       "       [ 0.35374447,  0.48596876],\n",
       "       [ 0.54449478, -0.14484534],\n",
       "       [ 0.62348833, -0.95002267]])"
      ]
     },
     "execution_count": 136,
     "metadata": {},
     "output_type": "execute_result"
    }
   ],
   "source": [
    "Positions[105000-1]"
   ]
  },
  {
   "cell_type": "code",
   "execution_count": null,
   "metadata": {
    "collapsed": true
   },
   "outputs": [],
   "source": []
  }
 ],
 "metadata": {
  "kernelspec": {
   "display_name": "Python 3",
   "language": "python",
   "name": "python3"
  },
  "language_info": {
   "codemirror_mode": {
    "name": "ipython",
    "version": 3
   },
   "file_extension": ".py",
   "mimetype": "text/x-python",
   "name": "python",
   "nbconvert_exporter": "python",
   "pygments_lexer": "ipython3",
   "version": "3.5.0"
  }
 },
 "nbformat": 4,
 "nbformat_minor": 0
}
