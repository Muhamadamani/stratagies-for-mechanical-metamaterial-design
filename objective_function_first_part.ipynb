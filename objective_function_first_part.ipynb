{
 "cells": [
  {
   "cell_type": "markdown",
   "metadata": {},
   "source": [
    "# Diagramatic representation of the first part of the objective function"
   ]
  },
  {
   "cell_type": "code",
   "execution_count": 1,
   "metadata": {
    "collapsed": true
   },
   "outputs": [],
   "source": [
    "fig_save_path = r\"\\\\storage01.amolf.nl\\data\\AMOLF\\users\\singh\\Martin\"\\\n",
    "                r\"\\Evolutionary Design\\Thesis Chapter\\Figures 2.0\\Section 4\""
   ]
  },
  {
   "cell_type": "code",
   "execution_count": 2,
   "metadata": {
    "collapsed": false
   },
   "outputs": [
    {
     "name": "stdout",
     "output_type": "stream",
     "text": [
      "Populating the interactive namespace from numpy and matplotlib\n"
     ]
    },
    {
     "data": {
      "text/plain": [
       "<matplotlib.figure.Figure at 0x857db52b0>"
      ]
     },
     "metadata": {},
     "output_type": "display_data"
    }
   ],
   "source": [
    "%run \"elegant_plot.ipynb\" "
   ]
  },
  {
   "cell_type": "code",
   "execution_count": 3,
   "metadata": {
    "collapsed": true
   },
   "outputs": [],
   "source": [
    "import numpy as np"
   ]
  },
  {
   "cell_type": "code",
   "execution_count": 10,
   "metadata": {
    "collapsed": false
   },
   "outputs": [
    {
     "name": "stderr",
     "output_type": "stream",
     "text": [
      "C:\\Users\\singh\\AppData\\Local\\Continuum\\Anaconda3\\lib\\site-packages\\matplotlib\\patches.py:3144: RuntimeWarning: invalid value encountered in double_scalars\n",
      "  ddx = pad_projected * dx / cp_distance\n",
      "C:\\Users\\singh\\AppData\\Local\\Continuum\\Anaconda3\\lib\\site-packages\\matplotlib\\patches.py:3145: RuntimeWarning: invalid value encountered in double_scalars\n",
      "  ddy = pad_projected * dy / cp_distance\n",
      "C:\\Users\\singh\\AppData\\Local\\Continuum\\Anaconda3\\lib\\site-packages\\matplotlib\\patches.py:3148: RuntimeWarning: invalid value encountered in double_scalars\n",
      "  dx = dx / cp_distance * head_dist\n",
      "C:\\Users\\singh\\AppData\\Local\\Continuum\\Anaconda3\\lib\\site-packages\\matplotlib\\patches.py:3149: RuntimeWarning: invalid value encountered in double_scalars\n",
      "  dy = dy / cp_distance * head_dist\n"
     ]
    },
    {
     "data": {
      "image/png": "[encoded data removed]",
      "text/plain": [
       "<matplotlib.figure.Figure at 0x859493438>"
      ]
     },
     "metadata": {},
     "output_type": "display_data"
    }
   ],
   "source": [
    "fullfig()\n",
    "#plt.subplot(111)\n",
    "ax = plt.subplot(111, aspect='equal')\n",
    "\n",
    "theta   = np.linspace(-np.pi/3, np.pi/3, 100)*(180/np.pi)\n",
    "targetD = 1.0*np.ones((100,1))\n",
    "\n",
    "candidateD = np.sin(theta*(np.pi/180)) - np.sin(theta*(np.pi/180)/2) + 1 \n",
    "\n",
    "plt.plot(theta, targetD, color = '#2E348E', label = r'$D_{t}(\\theta)$')\n",
    "plt.hold(True)\n",
    "plt.plot(theta, candidateD, color = '#2E348E', linestyle = '--', label = r'$D_{c}(\\theta)$')\n",
    "plt.legend(loc = 4)\n",
    "\n",
    "plt.ylim([0.5, 1.5])\n",
    "plt.xlim([-80, 80])\n",
    "\n",
    "marker_pos = [-60, -40, -20, 0, 20, 40, 60]\n",
    "for pos in marker_pos:\n",
    "    plt.plot(pos, 1.0, 'o', markerfacecolor=\"None\", markeredgecolor = 'red')\n",
    "    plt.plot(pos, np.sin(pos*(np.pi/180)) - np.sin(pos*(np.pi/180)/2) + 1 ,\n",
    "             'o', color = 'red', markeredgecolor = 'red')\n",
    "    plt.annotate(s='', xy=(pos,1), xytext=(pos,np.sin(pos*(np.pi/180)) \n",
    "        - np.sin(pos*(np.pi/180)/2) + 1), arrowprops=dict(arrowstyle='<->'))\n",
    "\n",
    "ax.text(-68, 0.85, r\"$d_1$\"); ax.text(-48, 0.85, r\"$d_2$\"); ax.text(-28, 0.85, r\"$d_3$\")\n",
    "ax.text(24, 1.05, r\"$d_5$\"); ax.text(44, 1.05, r\"$d_6$\"); ax.text(64, 1.05, r\"$d_7$\")\n",
    "\n",
    "\n",
    "ax.xaxis.set_ticks([-60, 0, 60])\n",
    "ax.xaxis.set_ticklabels([r'-$\\theta_1$', r'0', r'$\\theta_2$'])\n",
    "ax.yaxis.set_ticks([1])\n",
    "\n",
    "ax.set_yticklabels([r\"$D_{t}$\"])\n",
    "\n",
    "plt.xlabel(r\"$\\theta$\", size = 20); plt.ylabel(r\"$D$\", size = 20)\n",
    "\n",
    "\n",
    "#plt.savefig(fig_save_path + \"\\objective_function_first_part.pdf\", format='pdf',\n",
    "#            bbox_inches='tight')\n",
    "\n",
    "plt.show()"
   ]
  },
  {
   "cell_type": "code",
   "execution_count": null,
   "metadata": {
    "collapsed": true
   },
   "outputs": [],
   "source": []
  }
 ],
 "metadata": {
  "kernelspec": {
   "display_name": "Python 3",
   "language": "python",
   "name": "python3"
  },
  "language_info": {
   "codemirror_mode": {
    "name": "ipython",
    "version": 3
   },
   "file_extension": ".py",
   "mimetype": "text/x-python",
   "name": "python",
   "nbconvert_exporter": "python",
   "pygments_lexer": "ipython3",
   "version": "3.5.0"
  }
 },
 "nbformat": 4,
 "nbformat_minor": 0
}
